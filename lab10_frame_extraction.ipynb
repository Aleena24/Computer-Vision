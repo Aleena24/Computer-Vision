{
  "nbformat": 4,
  "nbformat_minor": 0,
  "metadata": {
    "colab": {
      "provenance": [],
      "authorship_tag": "ABX9TyMQOyb7o32MxU7fAYqHrw+f",
      "include_colab_link": true
    },
    "kernelspec": {
      "name": "python3",
      "display_name": "Python 3"
    },
    "language_info": {
      "name": "python"
    }
  },
  "cells": [
    {
      "cell_type": "markdown",
      "metadata": {
        "id": "view-in-github",
        "colab_type": "text"
      },
      "source": [
        "<a href=\"https://colab.research.google.com/github/Aleena24/Computer-Vision/blob/main/lab10_frame_extraction.ipynb\" target=\"_parent\"><img src=\"https://colab.research.google.com/assets/colab-badge.svg\" alt=\"Open In Colab\"/></a>"
      ]
    },
    {
      "cell_type": "code",
      "source": [
        "import cv2\n",
        "import os"
      ],
      "metadata": {
        "id": "wERBMzrcQlVh"
      },
      "execution_count": 7,
      "outputs": []
    },
    {
      "cell_type": "code",
      "source": [
        "video_path = '/content/IMG_0950.mov'\n",
        "\n",
        "output_dir = '/content/sample_data/op_frame'"
      ],
      "metadata": {
        "id": "eC9zSOiIQnLv"
      },
      "execution_count": 8,
      "outputs": []
    },
    {
      "cell_type": "code",
      "source": [
        "cap = cv2.VideoCapture(video_path)"
      ],
      "metadata": {
        "id": "s-auBPzPQ7F3"
      },
      "execution_count": 9,
      "outputs": []
    },
    {
      "cell_type": "code",
      "source": [
        "frame_count = 0"
      ],
      "metadata": {
        "id": "4qQ2QqVpQ87D"
      },
      "execution_count": 10,
      "outputs": []
    },
    {
      "cell_type": "code",
      "source": [
        "while True:\n",
        "  ret, frame = cap.read()\n",
        "if not ret:\n",
        "  break"
      ],
      "metadata": {
        "id": "8mdm4Cqeiulq"
      },
      "execution_count": null,
      "outputs": []
    },
    {
      "cell_type": "code",
      "source": [
        "    frame_filename = f'{output_dir}/frame_{frame_count:04d}.jpg'\n",
        "    cv2.imwrite(frame_filename, frame)\n",
        "    frame_count += 1"
      ],
      "metadata": {
        "id": "yhdPFeQNRPCl"
      },
      "execution_count": null,
      "outputs": []
    },
    {
      "cell_type": "code",
      "source": [],
      "metadata": {
        "id": "BdO7xK9PRRg6"
      },
      "execution_count": null,
      "outputs": []
    },
    {
      "cell_type": "code",
      "execution_count": null,
      "metadata": {
        "id": "EYMzsyVSNq49"
      },
      "outputs": [],
      "source": [
        "\n",
        "cap.release()\n",
        "cv2.destroyAllWindows()\n",
        "\n",
        "print(f'Frames extracted: {frame_count}')\n"
      ]
    }
  ]
}